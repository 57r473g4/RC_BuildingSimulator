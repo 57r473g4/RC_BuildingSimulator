{
 "cells": [
  {
   "cell_type": "code",
   "execution_count": null,
   "metadata": {
    "collapsed": true
   },
   "outputs": [],
   "source": [
    "\"\"\"\n",
    "Input data\n",
    "Adapted from https://github.com/architecture-building-systems/RC_BuildingSimulator/blob/master/simulator/BuildingProperties.py\n",
    "\"\"\"\n",
    "\n",
    "class box(object):\n",
    "    def __init__(self, \n",
    "                 R_env = 42,   #resistance of envelope\n",
    "                 Cm    =2.07   #capacitance of envelope\n",
    "                ):\n",
    "        #Single Capacitance Model Parameters\n",
    "        self.Cm=Cm #[kWh/K] Room Capacitance. Default based of Madsen2011\n",
    "        self.R_env=R_env #[K/kW] Wall resistance to outside air. Default based off glass having a Uvalue of 1.978W/m2K, 12m2 facade glass\n",
    "        "
   ]
  },
  {
   "cell_type": "code",
   "execution_count": 56,
   "metadata": {
    "collapsed": false
   },
   "outputs": [
    {
     "data": {
      "text/plain": [
       "<function __main__.read_EPW>"
      ]
     },
     "execution_count": 56,
     "metadata": {},
     "output_type": "execute_result"
    }
   ],
   "source": [
    "\"\"\"\n",
    "Import data\n",
    "Adapted from https://github.com/architecture-building-systems/RC_BuildingSimulator/blob/master/simulator/input_data.py\n",
    "\"\"\"\n",
    "\n",
    "def read_EPW(epw_name='data/CH_ZH_original.epw'):\n",
    "    #Should be done later with Pandas, but for some reason It's not working\n",
    "    T_out=[] #Open empty matrix for storing dry bulb temperature values\n",
    "    with open(epw_name, 'rb') as csvfile:\n",
    "        weatherfile = csv.reader(csvfile, delimiter=',', quotechar='|')\n",
    "        for row in weatherfile:\n",
    "            if row[0].isdigit():\n",
    "                T_out.append(row[6])\n",
    "    return T_out\n",
    "\n",
    "read_EPW"
   ]
  },
  {
   "cell_type": "code",
   "execution_count": 26,
   "metadata": {
    "collapsed": false
   },
   "outputs": [],
   "source": [
    "def select_date_range(day,month,days):\n",
    "    num_hours = 0\n",
    "    start_hour = 0\n",
    "\n",
    "    monthdays = [31,28,31,30,31,30,31,31,30,31,30,31]\n",
    "    for m in range(0,int(month)-1):        \n",
    "        start_hour+=monthdays[m]*24\n",
    "        for d in range(0,int(day)-1):\n",
    "            start_hour+=24\n",
    "\n",
    "    end_hour = start_hour + days*24\n",
    "    hour_list = range(start_hour, end_hour) #change this to range rather than list\n",
    "    return hour_list\n",
    "\n",
    "#select_date_range(1,2,2)"
   ]
  },
  {
   "cell_type": "code",
   "execution_count": 28,
   "metadata": {
    "collapsed": false,
    "scrolled": true
   },
   "outputs": [
    {
     "ename": "TypeError",
     "evalue": "int() argument must be a string or a number, not 'list'",
     "output_type": "error",
     "traceback": [
      "\u001b[1;31m---------------------------------------------------------------------------\u001b[0m",
      "\u001b[1;31mTypeError\u001b[0m                                 Traceback (most recent call last)",
      "\u001b[1;32m<ipython-input-28-d6a9452c27b0>\u001b[0m in \u001b[0;36m<module>\u001b[1;34m()\u001b[0m\n\u001b[0;32m      8\u001b[0m \u001b[0mfixed_df\u001b[0m \u001b[1;33m=\u001b[0m \u001b[0mpd\u001b[0m\u001b[1;33m.\u001b[0m\u001b[0mread_csv\u001b[0m\u001b[1;33m(\u001b[0m\u001b[1;34m'data/CH_ZH_original.epw'\u001b[0m\u001b[1;33m,\u001b[0m \u001b[0msep\u001b[0m\u001b[1;33m=\u001b[0m\u001b[1;34m','\u001b[0m\u001b[1;33m)\u001b[0m\u001b[1;33m\u001b[0m\u001b[0m\n\u001b[0;32m      9\u001b[0m \u001b[1;33m\u001b[0m\u001b[0m\n\u001b[1;32m---> 10\u001b[1;33m \u001b[0mfixed_df\u001b[0m\u001b[1;33m[\u001b[0m\u001b[0mint\u001b[0m\u001b[1;33m(\u001b[0m\u001b[0mselect_date_range\u001b[0m\u001b[1;33m(\u001b[0m\u001b[1;36m1\u001b[0m\u001b[1;33m,\u001b[0m\u001b[1;36m2\u001b[0m\u001b[1;33m,\u001b[0m\u001b[1;36m2\u001b[0m\u001b[1;33m)\u001b[0m\u001b[1;33m)\u001b[0m\u001b[1;33m+\u001b[0m\u001b[1;36m6\u001b[0m\u001b[1;33m]\u001b[0m\u001b[1;33m\u001b[0m\u001b[0m\n\u001b[0m",
      "\u001b[1;31mTypeError\u001b[0m: int() argument must be a string or a number, not 'list'"
     ]
    }
   ],
   "source": [
    "%matplotlib inline\n",
    "\n",
    "import pandas as pd\n",
    "import matplotlib.pyplot as plt\n",
    "\n",
    "pd.set_option('display.mpl_style', 'default') # Make the graphs a bit prettier\n",
    "plt.rcParams['figure.figsize'] = (15, 5)\n",
    "fixed_df = pd.read_csv('data/CH_ZH_original.epw', sep=',')\n",
    "\n",
    "fixed_df[int(select_date_range(1,2,2))+6]"
   ]
  },
  {
   "cell_type": "code",
   "execution_count": 51,
   "metadata": {
    "collapsed": false,
    "scrolled": true
   },
   "outputs": [
    {
     "ename": "TypeError",
     "evalue": "range() integer end argument expected, got list.",
     "output_type": "error",
     "traceback": [
      "\u001b[0;31m---------------------------------------------------------------------------\u001b[0m",
      "\u001b[0;31mTypeError\u001b[0m                                 Traceback (most recent call last)",
      "\u001b[0;32m<ipython-input-51-869da3286df4>\u001b[0m in \u001b[0;36m<module>\u001b[0;34m()\u001b[0m\n\u001b[1;32m      7\u001b[0m     \u001b[1;32mreturn\u001b[0m \u001b[0mT_list\u001b[0m\u001b[1;33m\u001b[0m\u001b[0m\n\u001b[1;32m      8\u001b[0m \u001b[1;33m\u001b[0m\u001b[0m\n\u001b[0;32m----> 9\u001b[0;31m \u001b[0mtemperature_range\u001b[0m\u001b[1;33m(\u001b[0m\u001b[1;36m1\u001b[0m\u001b[1;33m,\u001b[0m\u001b[1;36m1\u001b[0m\u001b[1;33m,\u001b[0m\u001b[1;36m3\u001b[0m\u001b[1;33m)\u001b[0m\u001b[1;33m\u001b[0m\u001b[0m\n\u001b[0m",
      "\u001b[0;32m<ipython-input-51-869da3286df4>\u001b[0m in \u001b[0;36mtemperature_range\u001b[0;34m(day, month, days)\u001b[0m\n\u001b[1;32m      3\u001b[0m     \u001b[0mi\u001b[0m\u001b[1;33m=\u001b[0m\u001b[1;36m0\u001b[0m\u001b[1;33m\u001b[0m\u001b[0m\n\u001b[1;32m      4\u001b[0m \u001b[1;33m\u001b[0m\u001b[0m\n\u001b[0;32m----> 5\u001b[0;31m     \u001b[1;32mfor\u001b[0m \u001b[0mi\u001b[0m \u001b[1;32min\u001b[0m \u001b[0mrange\u001b[0m\u001b[1;33m(\u001b[0m\u001b[0mselect_date_range\u001b[0m\u001b[1;33m(\u001b[0m\u001b[0mday\u001b[0m\u001b[1;33m,\u001b[0m\u001b[0mmonth\u001b[0m\u001b[1;33m,\u001b[0m\u001b[0mdays\u001b[0m\u001b[1;33m)\u001b[0m\u001b[1;33m)\u001b[0m\u001b[1;33m:\u001b[0m\u001b[1;33m\u001b[0m\u001b[0m\n\u001b[0m\u001b[1;32m      6\u001b[0m                    \u001b[0mT_list\u001b[0m\u001b[1;33m.\u001b[0m\u001b[0mappend\u001b[0m\u001b[1;33m(\u001b[0m\u001b[0mread_EPW\u001b[0m\u001b[1;33m[\u001b[0m\u001b[0mi\u001b[0m\u001b[1;33m]\u001b[0m\u001b[1;33m)\u001b[0m\u001b[1;33m\u001b[0m\u001b[0m\n\u001b[1;32m      7\u001b[0m     \u001b[1;32mreturn\u001b[0m \u001b[0mT_list\u001b[0m\u001b[1;33m\u001b[0m\u001b[0m\n",
      "\u001b[0;31mTypeError\u001b[0m: range() integer end argument expected, got list."
     ]
    }
   ],
   "source": [
    "def temperature_range(day,month,days):\n",
    "    T_list = []\n",
    "    i=0\n",
    "\n",
    "    for i in range(select_date_range(day,month,days)):\n",
    "                   T_list.append(read_EPW[i])\n",
    "    return i\n",
    "\n",
    "temperature_range(1,1,3)"
   ]
  },
  {
   "cell_type": "code",
   "execution_count": null,
   "metadata": {
    "collapsed": true
   },
   "outputs": [],
   "source": [
    "class weather\n",
    "    def __init__(self, \n",
    "                 T_out,        #ambient temperature\n",
    "                 T_in,         #indoor temperature at time m\n",
    "                 del_t,        #discrete time step\n",
    "                ):\n",
    "        self.T_out = T_out\n",
    "        self.T_in = T_in\n",
    "        self.del_t = del_t"
   ]
  },
  {
   "cell_type": "markdown",
   "metadata": {},
   "source": [
    "T_out: External temperature in C extracted from an EPW weather file\n",
    "\n",
    "T_in: Calculated internal temperature\n",
    "\n",
    "R_env: Resistance of the envelope. Must be caluclated by hand and inputted into the Building class in BuildingProperties.py\n",
    "\n",
    "R_infl: Equivalent resistance due to infiltration. This is calculated within BuildingProperties.py\n",
    "\n",
    "R_vent: Equivalent resistance due to ventelation. A variable resistance calculated by the setVentelation method in within the Building class of BuildingProperties.py\n",
    "\n",
    "Cm: Capacitance of the room. Must be caluclated by hand and inputted into the Building class in BuildingProperties.py\n",
    "\n",
    "Q_Heat: Heat energy supplied or removed by the heater or cooler. This is determined through a controller based on the temperature set points\n",
    "\n",
    "Q_rad: Heat energy to the sun. Hourly radiation data through the windows must be determined in advance and read through the read_transmittedR funtion of input_data.py\n",
    "\n",
    "Q_gains: Internal heat gains of people. Determined through the occupancy profile which is read in through the read_occupancy function of input_data.py"
   ]
  },
  {
   "cell_type": "code",
   "execution_count": null,
   "metadata": {
    "collapsed": true
   },
   "outputs": [],
   "source": [
    "\"\"\"\n",
    "===========================\n",
    "RC Model of a single zone building\n",
    "===========================\n",
    "File history and credits:\n",
    "Justin Zarb\n",
    "\"\"\"\n",
    "\n",
    "import numpy as np\n",
    "import math"
   ]
  }
 ],
 "metadata": {
  "anaconda-cloud": {},
  "kernelspec": {
   "display_name": "Python [Root]",
   "language": "python",
   "name": "Python [Root]"
  },
  "language_info": {
   "codemirror_mode": {
    "name": "ipython",
    "version": 2
   },
   "file_extension": ".py",
   "mimetype": "text/x-python",
   "name": "python",
   "nbconvert_exporter": "python",
   "pygments_lexer": "ipython2",
   "version": "2.7.12"
  }
 },
 "nbformat": 4,
 "nbformat_minor": 0
}
